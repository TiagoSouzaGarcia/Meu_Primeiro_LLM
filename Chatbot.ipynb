{
  "nbformat": 4,
  "nbformat_minor": 0,
  "metadata": {
    "colab": {
      "provenance": [],
      "authorship_tag": "ABX9TyP59t/+Rbb/xxHluNBw6GXN",
      "include_colab_link": true
    },
    "kernelspec": {
      "name": "python3",
      "display_name": "Python 3"
    },
    "language_info": {
      "name": "python"
    }
  },
  "cells": [
    {
      "cell_type": "markdown",
      "metadata": {
        "id": "view-in-github",
        "colab_type": "text"
      },
      "source": [
        "<a href=\"https://colab.research.google.com/github/TiagoSouzaGarcia/Meu_Primeiro_LLM/blob/main/Chatbot.ipynb\" target=\"_parent\"><img src=\"https://colab.research.google.com/assets/colab-badge.svg\" alt=\"Open In Colab\"/></a>"
      ]
    },
    {
      "cell_type": "markdown",
      "source": [
        "Configurar ambiente em python"
      ],
      "metadata": {
        "id": "TVYkkaxGJ0NT"
      }
    },
    {
      "cell_type": "code",
      "execution_count": 1,
      "metadata": {
        "id": "_FkiTvAKH_IA"
      },
      "outputs": [],
      "source": [
        "!pip install -q -U google-generativeai\n",
        "import google.generativeai as genai\n",
        "from google.colab import userdata\n",
        "api_key = userdata.get('SECRET_KEY')"
      ]
    },
    {
      "cell_type": "code",
      "source": [
        "genai.configure(api_key=api_key)"
      ],
      "metadata": {
        "id": "2Ts8nVjVIn8E"
      },
      "execution_count": 2,
      "outputs": []
    },
    {
      "cell_type": "markdown",
      "source": [
        "Listar os modelos disponíveis"
      ],
      "metadata": {
        "id": "BO8Sjt9XI1IR"
      }
    },
    {
      "cell_type": "code",
      "source": [
        "for m in genai.list_models():\n",
        "  if 'generateContent' in m.supported_generation_methods:\n",
        "    print(m.name)"
      ],
      "metadata": {
        "colab": {
          "base_uri": "https://localhost:8080/",
          "height": 142
        },
        "id": "CwP8oAUbI5e1",
        "outputId": "ec4d14fe-573f-49e6-fd93-6f54cbee5ce7"
      },
      "execution_count": 3,
      "outputs": [
        {
          "output_type": "stream",
          "name": "stdout",
          "text": [
            "models/gemini-1.0-pro\n",
            "models/gemini-1.0-pro-001\n",
            "models/gemini-1.0-pro-latest\n",
            "models/gemini-1.0-pro-vision-latest\n",
            "models/gemini-1.5-pro-latest\n",
            "models/gemini-pro\n",
            "models/gemini-pro-vision\n"
          ]
        }
      ]
    },
    {
      "cell_type": "markdown",
      "source": [
        "Configurações do chatbot"
      ],
      "metadata": {
        "id": "o0cjlsu4J7_y"
      }
    },
    {
      "cell_type": "code",
      "source": [
        "generation_config = {\n",
        "    \"candidate_count\": 1,\n",
        "    \"temperature\": 0.5\n",
        "}"
      ],
      "metadata": {
        "id": "wOGFUELVK8Yg"
      },
      "execution_count": 4,
      "outputs": []
    },
    {
      "cell_type": "markdown",
      "source": [
        "Desabilitando segurança"
      ],
      "metadata": {
        "id": "BWOsB8U7MLDR"
      }
    },
    {
      "cell_type": "code",
      "source": [
        "safety_settings = {\n",
        "    \"HARASSMENT\": \"BLOCK_NONE\",\n",
        "    \"HATE\": \"BLOCK_NONE\",\n",
        "    \"SEXUAL\": \"BLOCK_NONE\",\n",
        "    \"DANGEROUS\": \"BLOCK_NONE\"\n",
        "}"
      ],
      "metadata": {
        "id": "mXIlEBayLhsE"
      },
      "execution_count": 5,
      "outputs": []
    },
    {
      "cell_type": "code",
      "source": [
        "model = genai.GenerativeModel(model_name=\"gemini-1.0-pro\", generation_config=generation_config, safety_settings=safety_settings)"
      ],
      "metadata": {
        "id": "G1z9s___MVU4"
      },
      "execution_count": 6,
      "outputs": []
    },
    {
      "cell_type": "code",
      "source": [
        "response = model.generate_content(\"Vamos aprender conteúdo sobre IA. Me dê sugestões\")\n",
        "print(response.text)"
      ],
      "metadata": {
        "colab": {
          "base_uri": "https://localhost:8080/",
          "height": 732
        },
        "id": "pvE2Eo3_OQYW",
        "outputId": "a9cd511c-8849-4155-dac8-cea73f2c23c8"
      },
      "execution_count": 7,
      "outputs": [
        {
          "output_type": "stream",
          "name": "stdout",
          "text": [
            "**Conceitos Fundamentais**\n",
            "\n",
            "* O que é Inteligência Artificial (IA)?\n",
            "* Tipos de IA: Machine Learning, Deep Learning, Aprendizado por Reforço\n",
            "* Algoritmos de IA: Redes Neurais, Árvores de Decisão, Máquinas de Suporte Vetorial\n",
            "\n",
            "**Técnicas de Aprendizado de Máquina**\n",
            "\n",
            "* Aprendizado Supervisionado: Regressão, Classificação\n",
            "* Aprendizado Não Supervisionado: Agrupamento, Redução de Dimensionalidade\n",
            "* Aprendizado por Reforço: Aprendizado por Tentativa e Erro\n",
            "\n",
            "**Aplicações de IA**\n",
            "\n",
            "* Reconhecimento de Imagem e Vídeo\n",
            "* Processamento de Linguagem Natural (PNL)\n",
            "* Diagnóstico Médico\n",
            "* Veículos Autônomos\n",
            "* Automação de Processos\n",
            "\n",
            "**Ética e Implicações Sociais**\n",
            "\n",
            "* Viés e Discriminação em IA\n",
            "* Privacidade e Segurança\n",
            "* Impacto no Emprego e na Sociedade\n",
            "\n",
            "**Recursos de Aprendizado**\n",
            "\n",
            "* **Cursos Online:** Coursera, edX, Udemy\n",
            "* **Livros:** \"IA: Um Guia Moderno\" por Stuart Russell e Peter Norvig, \"Aprendizado Profundo\" por Ian Goodfellow, Yoshua Bengio e Aaron Courville\n",
            "* **Artigos de Pesquisa:** arXiv, IEEE Xplore\n",
            "* **Comunidades Online:** Reddit r/IA, Discord IA\n",
            "* **Conferências e Workshops:** NeurIPS, ICML, CVPR\n",
            "\n",
            "**Habilidades Práticas**\n",
            "\n",
            "* Programação em Python ou R\n",
            "* Bibliotecas de IA: TensorFlow, PyTorch, Scikit-learn\n",
            "* Experiência com conjuntos de dados e pré-processamento\n",
            "* Compreensão de métricas de avaliação de IA\n"
          ]
        }
      ]
    },
    {
      "cell_type": "markdown",
      "source": [
        "Inicializa a variável chat"
      ],
      "metadata": {
        "id": "c8tkiWdxPG5y"
      }
    },
    {
      "cell_type": "code",
      "source": [
        "chat = model.start_chat(history=[])"
      ],
      "metadata": {
        "id": "PpU2X6QQOu12"
      },
      "execution_count": 8,
      "outputs": []
    },
    {
      "cell_type": "markdown",
      "source": [
        "Dá entrada à um prompt"
      ],
      "metadata": {
        "id": "e34s3-rdPbWV"
      }
    },
    {
      "cell_type": "code",
      "source": [
        "prompt = input(\"Esperando prompt: \")\n",
        "\n",
        "while prompt != \"fim\":\n",
        "  response = chat.send_message(prompt)\n",
        "  print(\"Resposta: \", response.text, \"\\n\")\n",
        "  prompt = input(\"Esperando prompt: \")"
      ],
      "metadata": {
        "colab": {
          "base_uri": "https://localhost:8080/",
          "height": 821
        },
        "id": "O6UhRpyuPFGl",
        "outputId": "7c43bcd8-9b42-4422-9aab-d16f3dec43a3"
      },
      "execution_count": 9,
      "outputs": [
        {
          "name": "stdout",
          "output_type": "stream",
          "text": [
            "Esperando prompt: Qual a capital do japao?\n",
            "Resposta:  Tóquio \n",
            "\n",
            "Esperando prompt: Como fazer meu filho reduzir o uso do tablet?\n",
            "Resposta:  **Estabeleça limites claros:**\n",
            "\n",
            "* Determine horários específicos para o uso do tablet e cumpra-os.\n",
            "* Crie zonas livres de tela, como a mesa de jantar e os quartos.\n",
            "\n",
            "**Ofereça atividades alternativas:**\n",
            "\n",
            "* Envolva seu filho em atividades que ele goste, como esportes, arte, leitura ou brincadeiras ao ar livre.\n",
            "* Incentive o tempo de qualidade em família, como jogos de tabuleiro, conversas ou refeições juntos.\n",
            "\n",
            "**Seja um bom modelo:**\n",
            "\n",
            "* Limite seu próprio uso de telas para mostrar a seu filho que o equilíbrio é importante.\n",
            "* Use o tablet para fins produtivos, como ler, pesquisar ou se conectar com amigos e familiares.\n",
            "\n",
            "**Estabeleça consequências:**\n",
            "\n",
            "* Explique as consequências de exceder os limites de uso do tablet, como perda de privilégios ou tempo de tela reduzido.\n",
            "* Certifique-se de que as consequências sejam justas e consistentes.\n",
            "\n",
            "**Use a tecnologia a seu favor:**\n",
            "\n",
            "* Use aplicativos de controle dos pais para definir limites de tempo de tela e bloquear conteúdo impróprio.\n",
            "* Explore aplicativos educacionais ou de entretenimento que promovam o aprendizado e a criatividade.\n",
            "\n",
            "**Comunique-se abertamente:**\n",
            "\n",
            "* Converse com seu filho sobre os motivos pelos quais você está limitando o uso do tablet.\n",
            "* Explique os benefícios de reduzir o tempo de tela, como melhorar o sono, o foco e as habilidades sociais.\n",
            "\n",
            "**Seja paciente e persistente:**\n",
            "\n",
            "* Mudar os hábitos leva tempo e esforço.\n",
            "* Seja paciente com seu filho e não desista se ele resistir inicialmente.\n",
            "* Reforce os limites e as consequências de forma consistente.\n",
            "\n",
            "**Procure ajuda profissional se necessário:**\n",
            "\n",
            "* Se você estiver tendo dificuldades para controlar o uso do tablet de seu filho, considere procurar ajuda profissional de um terapeuta ou pediatra. \n",
            "\n",
            "Esperando prompt: fim\n"
          ]
        }
      ]
    },
    {
      "cell_type": "code",
      "source": [
        "#Melhorando a visualização\n",
        "#Código disponível em https://ai.google.dev/tutorials/python_quickstart#import_packages\n",
        "import textwrap\n",
        "from IPython.display import display\n",
        "from IPython.display import Markdown\n",
        "\n",
        "def to_markdown(text):\n",
        "  text = text.replace('•', '  *')\n",
        "  return Markdown(textwrap.indent(text, '> ', predicate=lambda _: True))\n",
        "\n",
        "#Imprimindo o histórico\n",
        "for message in chat.history:\n",
        "  display(to_markdown(f'**{message.role}**: {message.parts[0].text}'))\n",
        "  print('-------------------------------------------')\n",
        "\n"
      ],
      "metadata": {
        "colab": {
          "base_uri": "https://localhost:8080/",
          "height": 777
        },
        "id": "bBclo4N5R6JU",
        "outputId": "25e1f21d-f2be-4391-d7eb-696b73cad2f8"
      },
      "execution_count": 10,
      "outputs": [
        {
          "output_type": "display_data",
          "data": {
            "text/plain": [
              "<IPython.core.display.Markdown object>"
            ],
            "text/markdown": "> **user**: Qual a capital do japao?"
          },
          "metadata": {}
        },
        {
          "output_type": "stream",
          "name": "stdout",
          "text": [
            "-------------------------------------------\n"
          ]
        },
        {
          "output_type": "display_data",
          "data": {
            "text/plain": [
              "<IPython.core.display.Markdown object>"
            ],
            "text/markdown": "> **model**: Tóquio"
          },
          "metadata": {}
        },
        {
          "output_type": "stream",
          "name": "stdout",
          "text": [
            "-------------------------------------------\n"
          ]
        },
        {
          "output_type": "display_data",
          "data": {
            "text/plain": [
              "<IPython.core.display.Markdown object>"
            ],
            "text/markdown": "> **user**: Como fazer meu filho reduzir o uso do tablet?"
          },
          "metadata": {}
        },
        {
          "output_type": "stream",
          "name": "stdout",
          "text": [
            "-------------------------------------------\n"
          ]
        },
        {
          "output_type": "display_data",
          "data": {
            "text/plain": [
              "<IPython.core.display.Markdown object>"
            ],
            "text/markdown": "> **model**: **Estabeleça limites claros:**\n> \n> * Determine horários específicos para o uso do tablet e cumpra-os.\n> * Crie zonas livres de tela, como a mesa de jantar e os quartos.\n> \n> **Ofereça atividades alternativas:**\n> \n> * Envolva seu filho em atividades que ele goste, como esportes, arte, leitura ou brincadeiras ao ar livre.\n> * Incentive o tempo de qualidade em família, como jogos de tabuleiro, conversas ou refeições juntos.\n> \n> **Seja um bom modelo:**\n> \n> * Limite seu próprio uso de telas para mostrar a seu filho que o equilíbrio é importante.\n> * Use o tablet para fins produtivos, como ler, pesquisar ou se conectar com amigos e familiares.\n> \n> **Estabeleça consequências:**\n> \n> * Explique as consequências de exceder os limites de uso do tablet, como perda de privilégios ou tempo de tela reduzido.\n> * Certifique-se de que as consequências sejam justas e consistentes.\n> \n> **Use a tecnologia a seu favor:**\n> \n> * Use aplicativos de controle dos pais para definir limites de tempo de tela e bloquear conteúdo impróprio.\n> * Explore aplicativos educacionais ou de entretenimento que promovam o aprendizado e a criatividade.\n> \n> **Comunique-se abertamente:**\n> \n> * Converse com seu filho sobre os motivos pelos quais você está limitando o uso do tablet.\n> * Explique os benefícios de reduzir o tempo de tela, como melhorar o sono, o foco e as habilidades sociais.\n> \n> **Seja paciente e persistente:**\n> \n> * Mudar os hábitos leva tempo e esforço.\n> * Seja paciente com seu filho e não desista se ele resistir inicialmente.\n> * Reforce os limites e as consequências de forma consistente.\n> \n> **Procure ajuda profissional se necessário:**\n> \n> * Se você estiver tendo dificuldades para controlar o uso do tablet de seu filho, considere procurar ajuda profissional de um terapeuta ou pediatra."
          },
          "metadata": {}
        },
        {
          "output_type": "stream",
          "name": "stdout",
          "text": [
            "-------------------------------------------\n"
          ]
        }
      ]
    }
  ]
}